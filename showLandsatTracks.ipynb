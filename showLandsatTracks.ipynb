{
  "cells": [
    {
      "cell_type": "code",
      "execution_count": null,
      "id": "3ab443bc-3144-430d-8965-270658f71b32",
      "metadata": {
        "id": "3ab443bc-3144-430d-8965-270658f71b32"
      },
      "outputs": [],
      "source": [
        "\"\"\"\n",
        "See where there are active land sat tracks\n",
        "https://github.com/giswqs/geemap/blob/master/examples/notebooks/99_landsat_9.ipynb\n",
        "\"\"\""
      ]
    },
    {
      "cell_type": "code",
      "source": [
        "# !pip install geemap"
      ],
      "metadata": {
        "id": "b2tnzKaXW3uh",
        "colab": {
          "base_uri": "https://localhost:8080/",
          "height": 1000
        },
        "outputId": "7ad5ecfd-77f4-407c-8fab-6628557051b8"
      },
      "id": "b2tnzKaXW3uh",
      "execution_count": null,
      "outputs": [
        {
          "output_type": "stream",
          "name": "stdout",
          "text": [
            "Collecting geemap\n",
            "  Downloading geemap-0.13.4-py2.py3-none-any.whl (2.0 MB)\n",
            "\u001b[K     |████████████████████████████████| 2.0 MB 5.0 MB/s \n",
            "\u001b[?25hRequirement already satisfied: gdown in /usr/local/lib/python3.7/dist-packages (from geemap) (4.4.0)\n",
            "Collecting ipytree\n",
            "  Downloading ipytree-0.2.1-py2.py3-none-any.whl (1.3 MB)\n",
            "\u001b[K     |████████████████████████████████| 1.3 MB 36.0 MB/s \n",
            "\u001b[?25hCollecting jupyterlab>=3\n",
            "  Downloading jupyterlab-3.3.4-py3-none-any.whl (8.7 MB)\n",
            "\u001b[K     |████████████████████████████████| 8.7 MB 24.9 MB/s \n",
            "\u001b[?25hCollecting geeadd>=0.5.1\n",
            "  Downloading geeadd-0.5.5-py3-none-any.whl (30 kB)\n",
            "Collecting ipyfilechooser>=0.6.0\n",
            "  Downloading ipyfilechooser-0.6.0-py3-none-any.whl (11 kB)\n",
            "Collecting ee-extra>=0.0.10\n",
            "  Downloading ee_extra-0.0.13.tar.gz (187 kB)\n",
            "\u001b[K     |████████████████████████████████| 187 kB 54.5 MB/s \n",
            "\u001b[?25hCollecting colour\n",
            "  Downloading colour-0.1.5-py2.py3-none-any.whl (23 kB)\n",
            "Collecting geojson\n",
            "  Downloading geojson-2.5.0-py2.py3-none-any.whl (14 kB)\n",
            "Collecting pyshp>=2.1.3\n",
            "  Downloading pyshp-2.2.0-py3-none-any.whl (44 kB)\n",
            "\u001b[K     |████████████████████████████████| 44 kB 1.3 MB/s \n",
            "\u001b[?25hRequirement already satisfied: earthengine-api>=0.1.304 in /usr/local/lib/python3.7/dist-packages (from geemap) (0.1.306)\n",
            "Requirement already satisfied: matplotlib in /usr/local/lib/python3.7/dist-packages (from geemap) (3.2.2)\n",
            "Collecting whiteboxgui>=0.6.0\n",
            "  Downloading whiteboxgui-0.7.0-py2.py3-none-any.whl (99 kB)\n",
            "\u001b[K     |████████████████████████████████| 99 kB 7.2 MB/s \n",
            "\u001b[?25hCollecting folium>=0.11.0\n",
            "  Downloading folium-0.12.1.post1-py2.py3-none-any.whl (95 kB)\n",
            "\u001b[K     |████████████████████████████████| 95 kB 3.4 MB/s \n",
            "\u001b[?25hRequirement already satisfied: pandas in /usr/local/lib/python3.7/dist-packages (from geemap) (1.3.5)\n",
            "Collecting pycrs\n",
            "  Downloading PyCRS-1.0.2.tar.gz (36 kB)\n",
            "Collecting ipyleaflet>=0.14.0\n",
            "  Downloading ipyleaflet-0.16.0-py2.py3-none-any.whl (3.3 MB)\n",
            "\u001b[K     |████████████████████████████████| 3.3 MB 27.6 MB/s \n",
            "\u001b[?25hCollecting bqplot\n",
            "  Downloading bqplot-0.12.33-py2.py3-none-any.whl (1.2 MB)\n",
            "\u001b[K     |████████████████████████████████| 1.2 MB 31.0 MB/s \n",
            "\u001b[?25hCollecting mapclassify>=2.4.0\n",
            "  Downloading mapclassify-2.4.3-py3-none-any.whl (38 kB)\n",
            "Requirement already satisfied: pillow in /usr/local/lib/python3.7/dist-packages (from geemap) (7.1.2)\n",
            "Collecting xyzservices\n",
            "  Downloading xyzservices-2022.4.0-py3-none-any.whl (36 kB)\n",
            "Collecting geocoder\n",
            "  Downloading geocoder-1.38.1-py2.py3-none-any.whl (98 kB)\n",
            "\u001b[K     |████████████████████████████████| 98 kB 5.5 MB/s \n",
            "\u001b[?25hCollecting sankee\n",
            "  Downloading sankee-0.0.7.tar.gz (29 kB)\n",
            "Collecting ipyevents\n",
            "  Downloading ipyevents-2.0.1-py2.py3-none-any.whl (130 kB)\n",
            "\u001b[K     |████████████████████████████████| 130 kB 35.5 MB/s \n",
            "\u001b[?25hCollecting python-box\n",
            "  Downloading python_box-6.0.2-cp37-cp37m-manylinux_2_17_x86_64.manylinux2014_x86_64.whl (3.0 MB)\n",
            "\u001b[K     |████████████████████████████████| 3.0 MB 31.7 MB/s \n",
            "\u001b[?25hRequirement already satisfied: numpy in /usr/local/lib/python3.7/dist-packages (from geemap) (1.21.6)\n",
            "Collecting ffmpeg-python\n",
            "  Downloading ffmpeg_python-0.2.0-py3-none-any.whl (25 kB)\n",
            "Requirement already satisfied: google-cloud-storage in /usr/local/lib/python3.7/dist-packages (from earthengine-api>=0.1.304->geemap) (1.18.1)\n",
            "Requirement already satisfied: google-auth-httplib2>=0.0.3 in /usr/local/lib/python3.7/dist-packages (from earthengine-api>=0.1.304->geemap) (0.0.4)\n",
            "Requirement already satisfied: httplib2<1dev,>=0.9.2 in /usr/local/lib/python3.7/dist-packages (from earthengine-api>=0.1.304->geemap) (0.17.4)\n",
            "Requirement already satisfied: google-auth>=1.4.1 in /usr/local/lib/python3.7/dist-packages (from earthengine-api>=0.1.304->geemap) (1.35.0)\n",
            "Requirement already satisfied: httplib2shim in /usr/local/lib/python3.7/dist-packages (from earthengine-api>=0.1.304->geemap) (0.0.3)\n",
            "Requirement already satisfied: six in /usr/local/lib/python3.7/dist-packages (from earthengine-api>=0.1.304->geemap) (1.15.0)\n",
            "Requirement already satisfied: google-api-python-client<2,>=1.12.1 in /usr/local/lib/python3.7/dist-packages (from earthengine-api>=0.1.304->geemap) (1.12.11)\n",
            "Requirement already satisfied: future in /usr/local/lib/python3.7/dist-packages (from earthengine-api>=0.1.304->geemap) (0.16.0)\n",
            "Requirement already satisfied: branca>=0.3.0 in /usr/local/lib/python3.7/dist-packages (from folium>=0.11.0->geemap) (0.5.0)\n",
            "Requirement already satisfied: requests in /usr/local/lib/python3.7/dist-packages (from folium>=0.11.0->geemap) (2.23.0)\n",
            "Requirement already satisfied: jinja2>=2.9 in /usr/local/lib/python3.7/dist-packages (from folium>=0.11.0->geemap) (2.11.3)\n",
            "Collecting logzero>=1.5.0\n",
            "  Downloading logzero-1.7.0-py2.py3-none-any.whl (16 kB)\n",
            "Collecting beautifulsoup4>=4.9.0\n",
            "  Downloading beautifulsoup4-4.11.1-py3-none-any.whl (128 kB)\n",
            "\u001b[K     |████████████████████████████████| 128 kB 47.5 MB/s \n",
            "\u001b[?25hRequirement already satisfied: soupsieve>1.2 in /usr/local/lib/python3.7/dist-packages (from beautifulsoup4>=4.9.0->geeadd>=0.5.1->geemap) (2.3.2.post1)\n",
            "Requirement already satisfied: uritemplate<4dev,>=3.0.0 in /usr/local/lib/python3.7/dist-packages (from google-api-python-client<2,>=1.12.1->earthengine-api>=0.1.304->geemap) (3.0.1)\n",
            "Requirement already satisfied: google-api-core<3dev,>=1.21.0 in /usr/local/lib/python3.7/dist-packages (from google-api-python-client<2,>=1.12.1->earthengine-api>=0.1.304->geemap) (1.31.5)\n",
            "Requirement already satisfied: protobuf>=3.12.0 in /usr/local/lib/python3.7/dist-packages (from google-api-core<3dev,>=1.21.0->google-api-python-client<2,>=1.12.1->earthengine-api>=0.1.304->geemap) (3.17.3)\n",
            "Requirement already satisfied: setuptools>=40.3.0 in /usr/local/lib/python3.7/dist-packages (from google-api-core<3dev,>=1.21.0->google-api-python-client<2,>=1.12.1->earthengine-api>=0.1.304->geemap) (57.4.0)\n",
            "Requirement already satisfied: packaging>=14.3 in /usr/local/lib/python3.7/dist-packages (from google-api-core<3dev,>=1.21.0->google-api-python-client<2,>=1.12.1->earthengine-api>=0.1.304->geemap) (21.3)\n",
            "Requirement already satisfied: googleapis-common-protos<2.0dev,>=1.6.0 in /usr/local/lib/python3.7/dist-packages (from google-api-core<3dev,>=1.21.0->google-api-python-client<2,>=1.12.1->earthengine-api>=0.1.304->geemap) (1.56.0)\n",
            "Requirement already satisfied: pytz in /usr/local/lib/python3.7/dist-packages (from google-api-core<3dev,>=1.21.0->google-api-python-client<2,>=1.12.1->earthengine-api>=0.1.304->geemap) (2022.1)\n",
            "Requirement already satisfied: cachetools<5.0,>=2.0.0 in /usr/local/lib/python3.7/dist-packages (from google-auth>=1.4.1->earthengine-api>=0.1.304->geemap) (4.2.4)\n",
            "Requirement already satisfied: pyasn1-modules>=0.2.1 in /usr/local/lib/python3.7/dist-packages (from google-auth>=1.4.1->earthengine-api>=0.1.304->geemap) (0.2.8)\n",
            "Requirement already satisfied: rsa<5,>=3.1.4 in /usr/local/lib/python3.7/dist-packages (from google-auth>=1.4.1->earthengine-api>=0.1.304->geemap) (4.8)\n",
            "Requirement already satisfied: ipywidgets in /usr/local/lib/python3.7/dist-packages (from ipyfilechooser>=0.6.0->geemap) (7.7.0)\n",
            "Collecting traittypes<3,>=0.2.1\n",
            "  Downloading traittypes-0.2.1-py2.py3-none-any.whl (8.6 kB)\n",
            "Requirement already satisfied: ipykernel>=4.5.1 in /usr/local/lib/python3.7/dist-packages (from ipywidgets->ipyfilechooser>=0.6.0->geemap) (4.10.1)\n",
            "Requirement already satisfied: ipython>=4.0.0 in /usr/local/lib/python3.7/dist-packages (from ipywidgets->ipyfilechooser>=0.6.0->geemap) (5.5.0)\n",
            "Requirement already satisfied: ipython-genutils~=0.2.0 in /usr/local/lib/python3.7/dist-packages (from ipywidgets->ipyfilechooser>=0.6.0->geemap) (0.2.0)\n",
            "Requirement already satisfied: traitlets>=4.3.1 in /usr/local/lib/python3.7/dist-packages (from ipywidgets->ipyfilechooser>=0.6.0->geemap) (5.1.1)\n",
            "Requirement already satisfied: widgetsnbextension~=3.6.0 in /usr/local/lib/python3.7/dist-packages (from ipywidgets->ipyfilechooser>=0.6.0->geemap) (3.6.0)\n",
            "Requirement already satisfied: jupyterlab-widgets>=1.0.0 in /usr/local/lib/python3.7/dist-packages (from ipywidgets->ipyfilechooser>=0.6.0->geemap) (1.1.0)\n",
            "Requirement already satisfied: nbformat>=4.2.0 in /usr/local/lib/python3.7/dist-packages (from ipywidgets->ipyfilechooser>=0.6.0->geemap) (5.3.0)\n",
            "Requirement already satisfied: jupyter-client in /usr/local/lib/python3.7/dist-packages (from ipykernel>=4.5.1->ipywidgets->ipyfilechooser>=0.6.0->geemap) (5.3.5)\n",
            "Requirement already satisfied: tornado>=4.0 in /usr/local/lib/python3.7/dist-packages (from ipykernel>=4.5.1->ipywidgets->ipyfilechooser>=0.6.0->geemap) (5.1.1)\n",
            "Requirement already satisfied: pexpect in /usr/local/lib/python3.7/dist-packages (from ipython>=4.0.0->ipywidgets->ipyfilechooser>=0.6.0->geemap) (4.8.0)\n",
            "Requirement already satisfied: pygments in /usr/local/lib/python3.7/dist-packages (from ipython>=4.0.0->ipywidgets->ipyfilechooser>=0.6.0->geemap) (2.6.1)\n",
            "Requirement already satisfied: decorator in /usr/local/lib/python3.7/dist-packages (from ipython>=4.0.0->ipywidgets->ipyfilechooser>=0.6.0->geemap) (4.4.2)\n",
            "Requirement already satisfied: pickleshare in /usr/local/lib/python3.7/dist-packages (from ipython>=4.0.0->ipywidgets->ipyfilechooser>=0.6.0->geemap) (0.7.5)\n",
            "Requirement already satisfied: simplegeneric>0.8 in /usr/local/lib/python3.7/dist-packages (from ipython>=4.0.0->ipywidgets->ipyfilechooser>=0.6.0->geemap) (0.8.1)\n",
            "Requirement already satisfied: prompt-toolkit<2.0.0,>=1.0.4 in /usr/local/lib/python3.7/dist-packages (from ipython>=4.0.0->ipywidgets->ipyfilechooser>=0.6.0->geemap) (1.0.18)\n",
            "Requirement already satisfied: MarkupSafe>=0.23 in /usr/local/lib/python3.7/dist-packages (from jinja2>=2.9->folium>=0.11.0->geemap) (2.0.1)\n",
            "Collecting tornado>=4.0\n",
            "  Downloading tornado-6.1-cp37-cp37m-manylinux2010_x86_64.whl (428 kB)\n",
            "\u001b[K     |████████████████████████████████| 428 kB 44.5 MB/s \n",
            "\u001b[?25hCollecting jupyterlab-server~=2.10\n",
            "  Downloading jupyterlab_server-2.13.0-py3-none-any.whl (53 kB)\n",
            "\u001b[K     |████████████████████████████████| 53 kB 1.6 MB/s \n",
            "\u001b[?25hRequirement already satisfied: jupyter-core in /usr/local/lib/python3.7/dist-packages (from jupyterlab>=3->geemap) (4.10.0)\n",
            "Collecting jupyter-server~=1.4\n",
            "  Downloading jupyter_server-1.17.0-py3-none-any.whl (342 kB)\n",
            "\u001b[K     |████████████████████████████████| 342 kB 47.0 MB/s \n",
            "\u001b[?25hCollecting nbclassic~=0.2\n",
            "  Downloading nbclassic-0.3.7-py3-none-any.whl (13 kB)\n",
            "Collecting jupyter-client\n",
            "  Downloading jupyter_client-7.3.0-py3-none-any.whl (130 kB)\n",
            "\u001b[K     |████████████████████████████████| 130 kB 40.2 MB/s \n",
            "\u001b[?25hRequirement already satisfied: prometheus-client in /usr/local/lib/python3.7/dist-packages (from jupyter-server~=1.4->jupyterlab>=3->geemap) (0.14.1)\n",
            "Requirement already satisfied: terminado>=0.8.3 in /usr/local/lib/python3.7/dist-packages (from jupyter-server~=1.4->jupyterlab>=3->geemap) (0.13.3)\n",
            "Collecting anyio<4,>=3.1.0\n",
            "  Downloading anyio-3.5.0-py3-none-any.whl (79 kB)\n",
            "\u001b[K     |████████████████████████████████| 79 kB 6.1 MB/s \n",
            "\u001b[?25hRequirement already satisfied: Send2Trash in /usr/local/lib/python3.7/dist-packages (from jupyter-server~=1.4->jupyterlab>=3->geemap) (1.8.0)\n",
            "Requirement already satisfied: pyzmq>=17 in /usr/local/lib/python3.7/dist-packages (from jupyter-server~=1.4->jupyterlab>=3->geemap) (22.3.0)\n",
            "Collecting websocket-client\n",
            "  Downloading websocket_client-1.3.2-py3-none-any.whl (54 kB)\n",
            "\u001b[K     |████████████████████████████████| 54 kB 2.5 MB/s \n",
            "\u001b[?25hCollecting nbconvert>=6.4.4\n",
            "  Downloading nbconvert-6.5.0-py3-none-any.whl (561 kB)\n",
            "\u001b[K     |████████████████████████████████| 561 kB 46.5 MB/s \n",
            "\u001b[?25hRequirement already satisfied: argon2-cffi in /usr/local/lib/python3.7/dist-packages (from jupyter-server~=1.4->jupyterlab>=3->geemap) (21.3.0)\n",
            "Requirement already satisfied: idna>=2.8 in /usr/local/lib/python3.7/dist-packages (from anyio<4,>=3.1.0->jupyter-server~=1.4->jupyterlab>=3->geemap) (2.10)\n",
            "Collecting sniffio>=1.1\n",
            "  Downloading sniffio-1.2.0-py3-none-any.whl (10 kB)\n",
            "Requirement already satisfied: typing-extensions in /usr/local/lib/python3.7/dist-packages (from anyio<4,>=3.1.0->jupyter-server~=1.4->jupyterlab>=3->geemap) (4.2.0)\n",
            "Requirement already satisfied: python-dateutil>=2.8.2 in /usr/local/lib/python3.7/dist-packages (from jupyter-client->ipykernel>=4.5.1->ipywidgets->ipyfilechooser>=0.6.0->geemap) (2.8.2)\n",
            "Requirement already satisfied: entrypoints in /usr/local/lib/python3.7/dist-packages (from jupyter-client->ipykernel>=4.5.1->ipywidgets->ipyfilechooser>=0.6.0->geemap) (0.4)\n",
            "Requirement already satisfied: nest-asyncio>=1.5.4 in /usr/local/lib/python3.7/dist-packages (from jupyter-client->ipykernel>=4.5.1->ipywidgets->ipyfilechooser>=0.6.0->geemap) (1.5.5)\n",
            "Collecting json5\n",
            "  Downloading json5-0.9.6-py2.py3-none-any.whl (18 kB)\n",
            "Requirement already satisfied: importlib-metadata>=3.6 in /usr/local/lib/python3.7/dist-packages (from jupyterlab-server~=2.10->jupyterlab>=3->geemap) (4.11.3)\n",
            "Requirement already satisfied: babel in /usr/local/lib/python3.7/dist-packages (from jupyterlab-server~=2.10->jupyterlab>=3->geemap) (2.10.1)\n",
            "Collecting jinja2>=2.9\n",
            "  Downloading Jinja2-3.1.2-py3-none-any.whl (133 kB)\n",
            "\u001b[K     |████████████████████████████████| 133 kB 55.5 MB/s \n",
            "\u001b[?25hRequirement already satisfied: jsonschema>=3.0.1 in /usr/local/lib/python3.7/dist-packages (from jupyterlab-server~=2.10->jupyterlab>=3->geemap) (4.3.3)\n",
            "Requirement already satisfied: zipp>=0.5 in /usr/local/lib/python3.7/dist-packages (from importlib-metadata>=3.6->jupyterlab-server~=2.10->jupyterlab>=3->geemap) (3.8.0)\n",
            "Requirement already satisfied: attrs>=17.4.0 in /usr/local/lib/python3.7/dist-packages (from jsonschema>=3.0.1->jupyterlab-server~=2.10->jupyterlab>=3->geemap) (21.4.0)\n",
            "Requirement already satisfied: importlib-resources>=1.4.0 in /usr/local/lib/python3.7/dist-packages (from jsonschema>=3.0.1->jupyterlab-server~=2.10->jupyterlab>=3->geemap) (5.7.1)\n",
            "Requirement already satisfied: pyrsistent!=0.17.0,!=0.17.1,!=0.17.2,>=0.14.0 in /usr/local/lib/python3.7/dist-packages (from jsonschema>=3.0.1->jupyterlab-server~=2.10->jupyterlab>=3->geemap) (0.18.1)\n",
            "Requirement already satisfied: scikit-learn in /usr/local/lib/python3.7/dist-packages (from mapclassify>=2.4.0->geemap) (1.0.2)\n",
            "Requirement already satisfied: scipy>=1.0 in /usr/local/lib/python3.7/dist-packages (from mapclassify>=2.4.0->geemap) (1.4.1)\n",
            "Requirement already satisfied: networkx in /usr/local/lib/python3.7/dist-packages (from mapclassify>=2.4.0->geemap) (2.6.3)\n",
            "Requirement already satisfied: notebook<7 in /usr/local/lib/python3.7/dist-packages (from nbclassic~=0.2->jupyterlab>=3->geemap) (5.3.1)\n",
            "Collecting notebook-shim>=0.1.0\n",
            "  Downloading notebook_shim-0.1.0-py3-none-any.whl (13 kB)\n",
            "Requirement already satisfied: bleach in /usr/local/lib/python3.7/dist-packages (from nbconvert>=6.4.4->jupyter-server~=1.4->jupyterlab>=3->geemap) (5.0.0)\n",
            "Requirement already satisfied: jupyterlab-pygments in /usr/local/lib/python3.7/dist-packages (from nbconvert>=6.4.4->jupyter-server~=1.4->jupyterlab>=3->geemap) (0.2.2)\n",
            "Requirement already satisfied: nbclient>=0.5.0 in /usr/local/lib/python3.7/dist-packages (from nbconvert>=6.4.4->jupyter-server~=1.4->jupyterlab>=3->geemap) (0.6.0)\n",
            "Requirement already satisfied: tinycss2 in /usr/local/lib/python3.7/dist-packages (from nbconvert>=6.4.4->jupyter-server~=1.4->jupyterlab>=3->geemap) (1.1.1)\n",
            "Requirement already satisfied: mistune<2,>=0.8.1 in /usr/local/lib/python3.7/dist-packages (from nbconvert>=6.4.4->jupyter-server~=1.4->jupyterlab>=3->geemap) (0.8.4)\n",
            "Requirement already satisfied: pandocfilters>=1.4.1 in /usr/local/lib/python3.7/dist-packages (from nbconvert>=6.4.4->jupyter-server~=1.4->jupyterlab>=3->geemap) (1.5.0)\n",
            "Requirement already satisfied: defusedxml in /usr/local/lib/python3.7/dist-packages (from nbconvert>=6.4.4->jupyter-server~=1.4->jupyterlab>=3->geemap) (0.7.1)\n",
            "Requirement already satisfied: fastjsonschema in /usr/local/lib/python3.7/dist-packages (from nbformat>=4.2.0->ipywidgets->ipyfilechooser>=0.6.0->geemap) (2.15.3)\n",
            "Requirement already satisfied: pyparsing!=3.0.5,>=2.0.2 in /usr/local/lib/python3.7/dist-packages (from packaging>=14.3->google-api-core<3dev,>=1.21.0->google-api-python-client<2,>=1.12.1->earthengine-api>=0.1.304->geemap) (3.0.8)\n",
            "Requirement already satisfied: wcwidth in /usr/local/lib/python3.7/dist-packages (from prompt-toolkit<2.0.0,>=1.0.4->ipython>=4.0.0->ipywidgets->ipyfilechooser>=0.6.0->geemap) (0.2.5)\n",
            "Requirement already satisfied: pyasn1<0.5.0,>=0.4.6 in /usr/local/lib/python3.7/dist-packages (from pyasn1-modules>=0.2.1->google-auth>=1.4.1->earthengine-api>=0.1.304->geemap) (0.4.8)\n",
            "Requirement already satisfied: chardet<4,>=3.0.2 in /usr/local/lib/python3.7/dist-packages (from requests->folium>=0.11.0->geemap) (3.0.4)\n",
            "Requirement already satisfied: certifi>=2017.4.17 in /usr/local/lib/python3.7/dist-packages (from requests->folium>=0.11.0->geemap) (2021.10.8)\n",
            "Requirement already satisfied: urllib3!=1.25.0,!=1.25.1,<1.26,>=1.21.1 in /usr/local/lib/python3.7/dist-packages (from requests->folium>=0.11.0->geemap) (1.24.3)\n",
            "Requirement already satisfied: ptyprocess in /usr/local/lib/python3.7/dist-packages (from terminado>=0.8.3->jupyter-server~=1.4->jupyterlab>=3->geemap) (0.7.0)\n",
            "Collecting whitebox\n",
            "  Downloading whitebox-2.1.2-py2.py3-none-any.whl (75 kB)\n",
            "\u001b[K     |████████████████████████████████| 75 kB 4.7 MB/s \n",
            "\u001b[?25hRequirement already satisfied: argon2-cffi-bindings in /usr/local/lib/python3.7/dist-packages (from argon2-cffi->jupyter-server~=1.4->jupyterlab>=3->geemap) (21.2.0)\n",
            "Requirement already satisfied: cffi>=1.0.1 in /usr/local/lib/python3.7/dist-packages (from argon2-cffi-bindings->argon2-cffi->jupyter-server~=1.4->jupyterlab>=3->geemap) (1.15.0)\n",
            "Requirement already satisfied: pycparser in /usr/local/lib/python3.7/dist-packages (from cffi>=1.0.1->argon2-cffi-bindings->argon2-cffi->jupyter-server~=1.4->jupyterlab>=3->geemap) (2.21)\n",
            "Requirement already satisfied: webencodings in /usr/local/lib/python3.7/dist-packages (from bleach->nbconvert>=6.4.4->jupyter-server~=1.4->jupyterlab>=3->geemap) (0.5.1)\n",
            "Requirement already satisfied: tqdm in /usr/local/lib/python3.7/dist-packages (from gdown->geemap) (4.64.0)\n",
            "Requirement already satisfied: filelock in /usr/local/lib/python3.7/dist-packages (from gdown->geemap) (3.6.0)\n",
            "Collecting ratelim\n",
            "  Downloading ratelim-0.1.6-py2.py3-none-any.whl (4.0 kB)\n",
            "Requirement already satisfied: click in /usr/local/lib/python3.7/dist-packages (from geocoder->geemap) (7.1.2)\n",
            "Requirement already satisfied: google-resumable-media<0.5.0dev,>=0.3.1 in /usr/local/lib/python3.7/dist-packages (from google-cloud-storage->earthengine-api>=0.1.304->geemap) (0.4.1)\n",
            "Requirement already satisfied: google-cloud-core<2.0dev,>=1.0.0 in /usr/local/lib/python3.7/dist-packages (from google-cloud-storage->earthengine-api>=0.1.304->geemap) (1.0.3)\n",
            "Requirement already satisfied: kiwisolver>=1.0.1 in /usr/local/lib/python3.7/dist-packages (from matplotlib->geemap) (1.4.2)\n",
            "Requirement already satisfied: cycler>=0.10 in /usr/local/lib/python3.7/dist-packages (from matplotlib->geemap) (0.11.0)\n",
            "Requirement already satisfied: PySocks!=1.5.7,>=1.5.6 in /usr/local/lib/python3.7/dist-packages (from requests->folium>=0.11.0->geemap) (1.7.1)\n",
            "Requirement already satisfied: plotly>=5.2.2 in /usr/local/lib/python3.7/dist-packages (from sankee->geemap) (5.5.0)\n",
            "Requirement already satisfied: tenacity>=6.2.0 in /usr/local/lib/python3.7/dist-packages (from plotly>=5.2.2->sankee->geemap) (8.0.1)\n",
            "Requirement already satisfied: joblib>=0.11 in /usr/local/lib/python3.7/dist-packages (from scikit-learn->mapclassify>=2.4.0->geemap) (1.1.0)\n",
            "Requirement already satisfied: threadpoolctl>=2.0.0 in /usr/local/lib/python3.7/dist-packages (from scikit-learn->mapclassify>=2.4.0->geemap) (3.1.0)\n",
            "Building wheels for collected packages: ee-extra, pycrs, sankee\n",
            "  Building wheel for ee-extra (setup.py) ... \u001b[?25l\u001b[?25hdone\n",
            "  Created wheel for ee-extra: filename=ee_extra-0.0.13-py3-none-any.whl size=198407 sha256=61db246a53a3a83ea2f3c7052c9d2ad26ae65144fa7fb4cf2c41108374aebc4a\n",
            "  Stored in directory: /root/.cache/pip/wheels/54/f2/bc/51930fbbffdd2ef1b5aac2e332c068e4913e56634f90efdef8\n",
            "  Building wheel for pycrs (setup.py) ... \u001b[?25l\u001b[?25hdone\n",
            "  Created wheel for pycrs: filename=PyCRS-1.0.2-py3-none-any.whl size=32704 sha256=39e70d89f8bf68c6d34d2fb9cd19a5881a8f0338de6c914e86717c02b577ab59\n",
            "  Stored in directory: /root/.cache/pip/wheels/3e/ce/32/1ec0aba6b9770681a423e82f0274c57d09ad2c20c2864901f9\n",
            "  Building wheel for sankee (setup.py) ... \u001b[?25l\u001b[?25hdone\n",
            "  Created wheel for sankee: filename=sankee-0.0.7-py3-none-any.whl size=27639 sha256=d6557e9740cdbfcae9d91c499bf3daad0ec4ae91d4031265cd7c4fb188fbbfb9\n",
            "  Stored in directory: /root/.cache/pip/wheels/13/28/83/5726f82a8cb0baf76169d99ee0595c420afedb9020e22bbd4b\n",
            "Successfully built ee-extra pycrs sankee\n",
            "Installing collected packages: tornado, jupyter-client, jinja2, beautifulsoup4, sniffio, nbconvert, websocket-client, anyio, jupyter-server, notebook-shim, json5, xyzservices, whitebox, traittypes, ratelim, nbclassic, logzero, jupyterlab-server, ipytree, ipyfilechooser, whiteboxgui, sankee, python-box, pyshp, pycrs, mapclassify, jupyterlab, ipyleaflet, ipyevents, geojson, geocoder, geeadd, folium, ffmpeg-python, ee-extra, colour, bqplot, geemap\n",
            "  Attempting uninstall: tornado\n",
            "    Found existing installation: tornado 5.1.1\n",
            "    Uninstalling tornado-5.1.1:\n",
            "      Successfully uninstalled tornado-5.1.1\n",
            "  Attempting uninstall: jupyter-client\n",
            "    Found existing installation: jupyter-client 5.3.5\n",
            "    Uninstalling jupyter-client-5.3.5:\n",
            "      Successfully uninstalled jupyter-client-5.3.5\n",
            "  Attempting uninstall: jinja2\n",
            "    Found existing installation: Jinja2 2.11.3\n",
            "    Uninstalling Jinja2-2.11.3:\n",
            "      Successfully uninstalled Jinja2-2.11.3\n",
            "  Attempting uninstall: beautifulsoup4\n",
            "    Found existing installation: beautifulsoup4 4.6.3\n",
            "    Uninstalling beautifulsoup4-4.6.3:\n",
            "      Successfully uninstalled beautifulsoup4-4.6.3\n",
            "  Attempting uninstall: nbconvert\n",
            "    Found existing installation: nbconvert 5.6.1\n",
            "    Uninstalling nbconvert-5.6.1:\n",
            "      Successfully uninstalled nbconvert-5.6.1\n",
            "  Attempting uninstall: folium\n",
            "    Found existing installation: folium 0.8.3\n",
            "    Uninstalling folium-0.8.3:\n",
            "      Successfully uninstalled folium-0.8.3\n",
            "\u001b[31mERROR: pip's dependency resolver does not currently take into account all the packages that are installed. This behaviour is the source of the following dependency conflicts.\n",
            "google-colab 1.0.0 requires tornado~=5.1.0; python_version >= \"3.0\", but you have tornado 6.1 which is incompatible.\n",
            "flask 1.1.4 requires Jinja2<3.0,>=2.10.1, but you have jinja2 3.1.2 which is incompatible.\n",
            "datascience 0.10.6 requires folium==0.2.1, but you have folium 0.12.1.post1 which is incompatible.\u001b[0m\n",
            "Successfully installed anyio-3.5.0 beautifulsoup4-4.11.1 bqplot-0.12.33 colour-0.1.5 ee-extra-0.0.13 ffmpeg-python-0.2.0 folium-0.12.1.post1 geeadd-0.5.5 geemap-0.13.4 geocoder-1.38.1 geojson-2.5.0 ipyevents-2.0.1 ipyfilechooser-0.6.0 ipyleaflet-0.16.0 ipytree-0.2.1 jinja2-3.1.2 json5-0.9.6 jupyter-client-7.3.0 jupyter-server-1.17.0 jupyterlab-3.3.4 jupyterlab-server-2.13.0 logzero-1.7.0 mapclassify-2.4.3 nbclassic-0.3.7 nbconvert-6.5.0 notebook-shim-0.1.0 pycrs-1.0.2 pyshp-2.2.0 python-box-6.0.2 ratelim-0.1.6 sankee-0.0.7 sniffio-1.2.0 tornado-6.1 traittypes-0.2.1 websocket-client-1.3.2 whitebox-2.1.2 whiteboxgui-0.7.0 xyzservices-2022.4.0\n"
          ]
        },
        {
          "output_type": "display_data",
          "data": {
            "application/vnd.colab-display-data+json": {
              "pip_warning": {
                "packages": [
                  "jupyter_client",
                  "tornado"
                ]
              }
            }
          },
          "metadata": {}
        }
      ]
    },
    {
      "cell_type": "code",
      "execution_count": null,
      "id": "9f93b3a8-d24b-4ccc-85e3-b4c45749045e",
      "metadata": {
        "id": "9f93b3a8-d24b-4ccc-85e3-b4c45749045e"
      },
      "outputs": [],
      "source": [
        "import ee\n",
        "import geemap\n",
        "#ee.Authenticate()"
      ]
    },
    {
      "cell_type": "code",
      "execution_count": null,
      "id": "71585e63-9074-4c00-b78a-69fa4276faa7",
      "metadata": {
        "id": "71585e63-9074-4c00-b78a-69fa4276faa7"
      },
      "outputs": [],
      "source": [
        "ee.Initialize()"
      ]
    },
    {
      "cell_type": "code",
      "execution_count": null,
      "id": "9711b880-be06-494e-a9f3-cec9aa664071",
      "metadata": {
        "id": "9711b880-be06-494e-a9f3-cec9aa664071"
      },
      "outputs": [],
      "source": [
        "Map = geemap.Map()"
      ]
    },
    {
      "cell_type": "markdown",
      "id": "5db4a496-eb43-4ef8-9d0f-2838e6166801",
      "metadata": {
        "id": "5db4a496-eb43-4ef8-9d0f-2838e6166801"
      },
      "source": [
        "Find out how many Landsat imgaes are available."
      ]
    },
    {
      "cell_type": "code",
      "execution_count": null,
      "id": "ef80276d-23f0-4dc8-af38-34c0fa77902f",
      "metadata": {
        "id": "ef80276d-23f0-4dc8-af38-34c0fa77902f"
      },
      "outputs": [],
      "source": [
        "collection = ee.ImageCollection(\"LANDSAT/LC08/C02/T1_L2\").filterDate('2015-06-01', '2016-09-01')\n",
        "#print(collection.size().getInfo())"
      ]
    },
    {
      "cell_type": "markdown",
      "id": "2f97f6cd-d9a2-4dfb-bfc8-9ce72729698d",
      "metadata": {
        "id": "2f97f6cd-d9a2-4dfb-bfc8-9ce72729698d"
      },
      "source": [
        "Create a median composite."
      ]
    },
    {
      "cell_type": "code",
      "execution_count": null,
      "id": "1a4d9f7a-7316-4a5d-9e5e-a20f359da8ab",
      "metadata": {
        "id": "1a4d9f7a-7316-4a5d-9e5e-a20f359da8ab"
      },
      "outputs": [],
      "source": [
        "#filter date so that I only am looking at the time perido I am interested in \n",
        "\n",
        "median = collection.median() #gets the median pixel value for all of the images in this collection, easy to visualize "
      ]
    },
    {
      "cell_type": "markdown",
      "id": "5ca649e7-6c5b-4d0a-a29b-e28ed63f1b02",
      "metadata": {
        "id": "5ca649e7-6c5b-4d0a-a29b-e28ed63f1b02"
      },
      "source": [
        "Scale per https://developers.google.com/earth-engine/datasets/catalog/LANDSAT_LC08_C02_T1_L2#bands\n",
        "\n",
        "and https://developers.google.com/earth-engine/datasets/catalog/LANDSAT_LC08_C02_T1_L2"
      ]
    },
    {
      "cell_type": "code",
      "execution_count": null,
      "id": "53c009b1-8d8d-42b3-9820-fc739c3c2fd6",
      "metadata": {
        "id": "53c009b1-8d8d-42b3-9820-fc739c3c2fd6"
      },
      "outputs": [],
      "source": [
        "def apply_scale_factors(image,visBands,visNIR):\n",
        "    #as per the data sets description here https://developers.google.com/earth-engine/datasets/catalog/LANDSAT_LC08_C02_T1_L2\n",
        "    opticalBands = image.select(visBands).multiply(2.75E-5).add(-0.2)\n",
        "    thermalBands = image.select(visNIR).multiply(0.00341802).add(149.0)\n",
        "    return image.addBands(opticalBands, None, True).addBands(thermalBands, None, True)"
      ]
    },
    {
      "cell_type": "code",
      "execution_count": null,
      "id": "d7c8a4fd-aac0-47ae-a5f4-483bd4eda454",
      "metadata": {
        "id": "d7c8a4fd-aac0-47ae-a5f4-483bd4eda454"
      },
      "outputs": [],
      "source": [
        "vis_natural = {\n",
        "    'bands': ['SR_B4', 'SR_B3', 'SR_B2'],\n",
        "    'min': 0.0,\n",
        "    'max': 0.3,\n",
        "}\n",
        "\n",
        "vis_nir = {\n",
        "    'bands': ['B5','B6','B7'],\n",
        "    'min': 0.0,\n",
        "    'max': 0.3,\n",
        "}\n",
        "\n",
        "vis_thermal={\n",
        "    'bands':[\"ST_B10\"]\n",
        "\n",
        "    \n",
        "}"
      ]
    },
    {
      "cell_type": "code",
      "execution_count": null,
      "id": "9e35afdd-c523-4c44-9459-454c25f9e6cd",
      "metadata": {
        "id": "9e35afdd-c523-4c44-9459-454c25f9e6cd"
      },
      "outputs": [],
      "source": [
        "dataset = apply_scale_factors(median,vis_natural['bands'],vis_thermal['bands'])"
      ]
    },
    {
      "cell_type": "markdown",
      "id": "776c1105-9e6a-4d0f-a2be-4e4b9a475f4e",
      "metadata": {
        "id": "776c1105-9e6a-4d0f-a2be-4e4b9a475f4e"
      },
      "source": [
        "Specify visualization parameters."
      ]
    },
    {
      "cell_type": "markdown",
      "id": "f8ff6f82-4a32-4c25-9240-a20aa78aa908",
      "metadata": {
        "id": "f8ff6f82-4a32-4c25-9240-a20aa78aa908"
      },
      "source": [
        "Add data layers to the map."
      ]
    },
    {
      "cell_type": "code",
      "execution_count": null,
      "id": "2b00d374-399e-4e2b-80b7-9dc37a639e2e",
      "metadata": {
        "colab": {
          "referenced_widgets": [
            "9325e982f2be4489adc61a1d1fbfb887",
            "7b9681c9c1d643b9ac37c56727383bb6",
            "3c4edb2af7cb47f5a334c95e78f058f5",
            "c5b6385bb9d84f29a5e62bbfe0a63d49",
            "6861fb1abeef4ab58b42ee5930ecc75c",
            "fc03f03a014e45fc8c743fe72b54f860",
            "1895c3f4727748f0a3f06ae668b911ea",
            "3b698af37df34e059d3af77f2478e35a",
            "53f6b3da5c3f424091b1c00c948b53ad",
            "cceafafdbd24432da6675a4d2461c44b",
            "499b093f45d942d8894e801907f023db",
            "fe2ea8f77cb64f5092873350621cb053",
            "3fd9302d89064ec89fc69fb39fe46777",
            "25327216e72b4cada48c5e88186e29e0",
            "40a97b1875074372b86694d45978688a",
            "77e4a7d3cf5048e39f515c997253094d",
            "744f5946003c46e9bb333faa2226f89f",
            "c28fe68216674f9583ed0e41b345fd4b",
            "23f71c01ec7e468cb48e5f2b8899a1b4",
            "be9aead247dd4b47ac081a0a7c6a6fa9",
            "d8bb628f9a0f420092ecaa69612de322",
            "6afcc719c7bd428b9406d368394bbcfd",
            "27b92227cedc498b8e81ffa76a82db76",
            "4c955dcba1664c97930506e78f6171f8",
            "3f7e9aa968d8499bac15cafa1c0887c5",
            "e6242f8d3a5c45548625e2cc523c21aa"
          ],
          "base_uri": "https://localhost:8080/",
          "height": 621
        },
        "id": "2b00d374-399e-4e2b-80b7-9dc37a639e2e",
        "outputId": "32c67ba3-d00f-4f4e-83b2-2ca9ab22c67f"
      },
      "outputs": [
        {
          "output_type": "display_data",
          "data": {
            "text/plain": [
              "Map(bottom=987.0, center=[-52.26815737376817, -2.1093750000000004], controls=(WidgetControl(options=['position…"
            ],
            "application/vnd.jupyter.widget-view+json": {
              "version_major": 2,
              "version_minor": 0,
              "model_id": "9325e982f2be4489adc61a1d1fbfb887"
            }
          },
          "metadata": {
            "application/vnd.jupyter.widget-view+json": {
              "colab": {
                "custom_widget_manager": {
                  "url": "https://ssl.gstatic.com/colaboratory-static/widgets/colab-cdn-widget-manager/a8874ba6619b6106/manager.min.js"
                }
              }
            }
          }
        }
      ],
      "source": [
        "Map.addLayer(dataset, vis_natural, 'True color (432)')\n",
        "#Map.addLayer(dataset, vis_thermal, 'Color infrared (543)')\n",
        "Map"
      ]
    },
    {
      "cell_type": "code",
      "execution_count": null,
      "id": "dfc1fb5a-6e02-4b1a-b770-bec4b514e687",
      "metadata": {
        "id": "dfc1fb5a-6e02-4b1a-b770-bec4b514e687"
      },
      "outputs": [],
      "source": [
        "### now try sentinel data\n",
        "# https://developers.google.com/earth-engine/datasets/catalog/COPERNICUS_S2\n",
        "s2 = ee.ImageCollection(\"COPERNICUS/S2\")\n",
        "print(collection.size().getInfo())\n",
        "medianS2=s2.median()"
      ]
    },
    {
      "cell_type": "code",
      "execution_count": null,
      "id": "502a3acb-fe7e-49a5-af65-f97687913991",
      "metadata": {
        "id": "502a3acb-fe7e-49a5-af65-f97687913991"
      },
      "outputs": [],
      "source": [
        "def apply_scale_factors(image,visBands,visNIR):\n",
        "    #as per the data sets description here https://developers.google.com/earth-engine/datasets/catalog/LANDSAT_LC08_C01_T2_SR#bands\n",
        "    opticalBands = image.select(visBands).multiply(0.0001)\n",
        "    thermalBands = image.select(visNIR).multiply(0.0001)\n",
        "    return image.addBands(opticalBands, None, True).addBands(thermalBands, None, True)"
      ]
    },
    {
      "cell_type": "code",
      "execution_count": null,
      "id": "5860bf5d-e637-4835-8551-2dc5451d0d35",
      "metadata": {
        "id": "5860bf5d-e637-4835-8551-2dc5451d0d35"
      },
      "outputs": [],
      "source": [
        "vis_natural = {\n",
        "    'bands': ['B4', 'B3', 'B2'],\n",
        "    'min': 0.0,\n",
        "    'max': 0.3,\n",
        "}\n",
        "\n",
        "vis_nir = {\n",
        "    'bands': ['B6','B7','B8'],\n",
        "    'min': 0.0,\n",
        "    'max': 0.3,\n",
        "}"
      ]
    },
    {
      "cell_type": "code",
      "execution_count": null,
      "id": "ceffa385-b95f-4a64-bb8d-208d01f61e8a",
      "metadata": {
        "id": "ceffa385-b95f-4a64-bb8d-208d01f61e8a"
      },
      "outputs": [],
      "source": [
        "s2Dataset = apply_scale_factors(medianS2,vis_natural['bands'],vis_nir['bands'])"
      ]
    },
    {
      "cell_type": "code",
      "execution_count": null,
      "id": "209af9de-88fa-4965-91a7-336599d6bd5e",
      "metadata": {
        "id": "209af9de-88fa-4965-91a7-336599d6bd5e"
      },
      "outputs": [],
      "source": [
        "Map.addLayer(s2Dataset, vis_nir, 'Color infrared (543)')\n",
        "Map"
      ]
    },
    {
      "cell_type": "code",
      "execution_count": null,
      "id": "8faf92d2-de63-4079-90d8-5e51a2fe9998",
      "metadata": {
        "id": "8faf92d2-de63-4079-90d8-5e51a2fe9998"
      },
      "outputs": [],
      "source": [
        ""
      ]
    }
  ],
  "metadata": {
    "kernelspec": {
      "display_name": "Python 3 (ipykernel)",
      "language": "python",
      "name": "python3"
    },
    "language_info": {
      "codemirror_mode": {
        "name": "ipython",
        "version": 3
      },
      "file_extension": ".py",
      "mimetype": "text/x-python",
      "name": "python",
      "nbconvert_exporter": "python",
      "pygments_lexer": "ipython3",
      "version": "3.9.12"
    },
    "colab": {
      "name": "showLandsatCoverage.ipynb",
      "provenance": [],
      "collapsed_sections": []
    },
    "widgets": {
      "application/vnd.jupyter.widget-state+json": {
        "9325e982f2be4489adc61a1d1fbfb887": {
          "model_module": "jupyter-leaflet",
          "model_name": "LeafletMapModel",
          "model_module_version": "^0.16.0",
          "state": {
            "_dom_classes": [],
            "_model_module": "jupyter-leaflet",
            "_model_module_version": "^0.16.0",
            "_model_name": "LeafletMapModel",
            "_view_count": null,
            "_view_module": "jupyter-leaflet",
            "_view_module_version": "^0.16.0",
            "_view_name": "LeafletMapView",
            "bottom": 853,
            "bounce_at_zoom_limits": true,
            "box_zoom": true,
            "center": [
              -14.26438308756265,
              20.039062500000004
            ],
            "close_popup_on_click": true,
            "controls": [
              "IPY_MODEL_7b9681c9c1d643b9ac37c56727383bb6",
              "IPY_MODEL_3c4edb2af7cb47f5a334c95e78f058f5",
              "IPY_MODEL_c5b6385bb9d84f29a5e62bbfe0a63d49",
              "IPY_MODEL_6861fb1abeef4ab58b42ee5930ecc75c",
              "IPY_MODEL_fc03f03a014e45fc8c743fe72b54f860",
              "IPY_MODEL_1895c3f4727748f0a3f06ae668b911ea",
              "IPY_MODEL_3b698af37df34e059d3af77f2478e35a",
              "IPY_MODEL_53f6b3da5c3f424091b1c00c948b53ad"
            ],
            "crs": {
              "name": "EPSG3857",
              "custom": false
            },
            "default_style": "IPY_MODEL_cceafafdbd24432da6675a4d2461c44b",
            "double_click_zoom": true,
            "dragging": true,
            "dragging_style": "IPY_MODEL_499b093f45d942d8894e801907f023db",
            "east": 222.890625,
            "fullscreen": false,
            "inertia": true,
            "inertia_deceleration": 3000,
            "inertia_max_speed": 1500,
            "interpolation": "bilinear",
            "keyboard": true,
            "keyboard_pan_offset": 80,
            "keyboard_zoom_offset": 1,
            "layers": [
              "IPY_MODEL_fe2ea8f77cb64f5092873350621cb053",
              "IPY_MODEL_3fd9302d89064ec89fc69fb39fe46777",
              "IPY_MODEL_25327216e72b4cada48c5e88186e29e0",
              "IPY_MODEL_40a97b1875074372b86694d45978688a"
            ],
            "layout": "IPY_MODEL_77e4a7d3cf5048e39f515c997253094d",
            "left": -8,
            "max_zoom": 24,
            "min_zoom": 1,
            "modisdate": "2022-04-28",
            "north": 66.93006025862448,
            "options": [
              "bounce_at_zoom_limits",
              "box_zoom",
              "center",
              "close_popup_on_click",
              "double_click_zoom",
              "dragging",
              "fullscreen",
              "inertia",
              "inertia_deceleration",
              "inertia_max_speed",
              "interpolation",
              "keyboard",
              "keyboard_pan_offset",
              "keyboard_zoom_offset",
              "max_zoom",
              "min_zoom",
              "prefer_canvas",
              "scroll_wheel_zoom",
              "tap",
              "tap_tolerance",
              "touch_zoom",
              "world_copy_jump",
              "zoom",
              "zoom_animation_threshold",
              "zoom_delta",
              "zoom_snap",
              "zoom_start"
            ],
            "prefer_canvas": false,
            "right": 1146,
            "scroll_wheel_zoom": true,
            "south": -75.93088543216642,
            "style": "IPY_MODEL_cceafafdbd24432da6675a4d2461c44b",
            "tap": true,
            "tap_tolerance": 15,
            "top": 253,
            "touch_zoom": true,
            "west": -182.81250000000003,
            "window_url": "https://78f38c63rl9-496ff2e9c6d22116-0-colab.googleusercontent.com/outputframe.html?vrz=colab-20220428-060046-RC02_445307811",
            "world_copy_jump": false,
            "zoom": 2,
            "zoom_animation_threshold": 4,
            "zoom_delta": 1,
            "zoom_snap": 1,
            "zoom_start": 12,
            "_dragging": false
          }
        },
        "7b9681c9c1d643b9ac37c56727383bb6": {
          "model_module": "jupyter-leaflet",
          "model_name": "LeafletWidgetControlModel",
          "model_module_version": "^0.16.0",
          "state": {
            "_model_module": "jupyter-leaflet",
            "_model_module_version": "^0.16.0",
            "_model_name": "LeafletWidgetControlModel",
            "_view_count": null,
            "_view_module": "jupyter-leaflet",
            "_view_module_version": "^0.16.0",
            "_view_name": "LeafletWidgetControlView",
            "max_height": null,
            "max_width": null,
            "min_height": null,
            "min_width": null,
            "options": [
              "position",
              "transparent_bg"
            ],
            "position": "topleft",
            "transparent_bg": false,
            "widget": "IPY_MODEL_744f5946003c46e9bb333faa2226f89f"
          }
        },
        "3c4edb2af7cb47f5a334c95e78f058f5": {
          "model_module": "jupyter-leaflet",
          "model_name": "LeafletZoomControlModel",
          "model_module_version": "^0.16.0",
          "state": {
            "_model_module": "jupyter-leaflet",
            "_model_module_version": "^0.16.0",
            "_model_name": "LeafletZoomControlModel",
            "_view_count": null,
            "_view_module": "jupyter-leaflet",
            "_view_module_version": "^0.16.0",
            "_view_name": "LeafletZoomControlView",
            "options": [
              "position",
              "zoom_in_text",
              "zoom_in_title",
              "zoom_out_text",
              "zoom_out_title"
            ],
            "position": "topleft",
            "zoom_in_text": "+",
            "zoom_in_title": "Zoom in",
            "zoom_out_text": "-",
            "zoom_out_title": "Zoom out"
          }
        },
        "c5b6385bb9d84f29a5e62bbfe0a63d49": {
          "model_module": "jupyter-leaflet",
          "model_name": "LeafletScaleControlModel",
          "model_module_version": "^0.16.0",
          "state": {
            "_model_module": "jupyter-leaflet",
            "_model_module_version": "^0.16.0",
            "_model_name": "LeafletScaleControlModel",
            "_view_count": null,
            "_view_module": "jupyter-leaflet",
            "_view_module_version": "^0.16.0",
            "_view_name": "LeafletScaleControlView",
            "imperial": true,
            "max_width": 100,
            "metric": true,
            "options": [
              "imperial",
              "max_width",
              "metric",
              "position",
              "update_when_idle"
            ],
            "position": "bottomleft",
            "update_when_idle": false
          }
        },
        "6861fb1abeef4ab58b42ee5930ecc75c": {
          "model_module": "jupyter-leaflet",
          "model_name": "LeafletFullScreenControlModel",
          "model_module_version": "^0.16.0",
          "state": {
            "_model_module": "jupyter-leaflet",
            "_model_module_version": "^0.16.0",
            "_model_name": "LeafletFullScreenControlModel",
            "_view_count": null,
            "_view_module": "jupyter-leaflet",
            "_view_module_version": "^0.16.0",
            "_view_name": "LeafletFullScreenControlView",
            "options": [
              "position"
            ],
            "position": "topleft"
          }
        },
        "fc03f03a014e45fc8c743fe72b54f860": {
          "model_module": "jupyter-leaflet",
          "model_name": "LeafletMeasureControlModel",
          "model_module_version": "^0.16.0",
          "state": {
            "_custom_units": {},
            "_model_module": "jupyter-leaflet",
            "_model_module_version": "^0.16.0",
            "_model_name": "LeafletMeasureControlModel",
            "_view_count": null,
            "_view_module": "jupyter-leaflet",
            "_view_module_version": "^0.16.0",
            "_view_name": "LeafletMeasureControlView",
            "active_color": "orange",
            "capture_z_index": 10000,
            "completed_color": "#C8F2BE",
            "options": [
              "active_color",
              "capture_z_index",
              "completed_color",
              "popup_options",
              "position",
              "primary_area_unit",
              "primary_length_unit",
              "secondary_area_unit",
              "secondary_length_unit"
            ],
            "popup_options": {
              "className": "leaflet-measure-resultpopup",
              "autoPanPadding": [
                10,
                10
              ]
            },
            "position": "bottomleft",
            "primary_area_unit": "acres",
            "primary_length_unit": "kilometers",
            "secondary_area_unit": null,
            "secondary_length_unit": null
          }
        },
        "1895c3f4727748f0a3f06ae668b911ea": {
          "model_module": "jupyter-leaflet",
          "model_name": "LeafletAttributionControlModel",
          "model_module_version": "^0.16.0",
          "state": {
            "_model_module": "jupyter-leaflet",
            "_model_module_version": "^0.16.0",
            "_model_name": "LeafletAttributionControlModel",
            "_view_count": null,
            "_view_module": "jupyter-leaflet",
            "_view_module_version": "^0.16.0",
            "_view_name": "LeafletAttributionControlView",
            "options": [
              "position",
              "prefix"
            ],
            "position": "bottomright",
            "prefix": "ipyleaflet"
          }
        },
        "3b698af37df34e059d3af77f2478e35a": {
          "model_module": "jupyter-leaflet",
          "model_name": "LeafletDrawControlModel",
          "model_module_version": "^0.16.0",
          "state": {
            "_model_module": "jupyter-leaflet",
            "_model_module_version": "^0.16.0",
            "_model_name": "LeafletDrawControlModel",
            "_view_count": null,
            "_view_module": "jupyter-leaflet",
            "_view_module_version": "^0.16.0",
            "_view_name": "LeafletDrawControlView",
            "circle": {
              "shapeOptions": {
                "color": "#3388ff"
              }
            },
            "circlemarker": {},
            "data": [],
            "edit": true,
            "marker": {
              "shapeOptions": {
                "color": "#3388ff"
              }
            },
            "options": [
              "position"
            ],
            "polygon": {
              "shapeOptions": {}
            },
            "polyline": {
              "shapeOptions": {}
            },
            "position": "topleft",
            "rectangle": {
              "shapeOptions": {
                "color": "#3388ff"
              }
            },
            "remove": true
          }
        },
        "53f6b3da5c3f424091b1c00c948b53ad": {
          "model_module": "jupyter-leaflet",
          "model_name": "LeafletWidgetControlModel",
          "model_module_version": "^0.16.0",
          "state": {
            "_model_module": "jupyter-leaflet",
            "_model_module_version": "^0.16.0",
            "_model_name": "LeafletWidgetControlModel",
            "_view_count": null,
            "_view_module": "jupyter-leaflet",
            "_view_module_version": "^0.16.0",
            "_view_name": "LeafletWidgetControlView",
            "max_height": null,
            "max_width": null,
            "min_height": null,
            "min_width": null,
            "options": [
              "position",
              "transparent_bg"
            ],
            "position": "topright",
            "transparent_bg": false,
            "widget": "IPY_MODEL_c28fe68216674f9583ed0e41b345fd4b"
          }
        },
        "cceafafdbd24432da6675a4d2461c44b": {
          "model_module": "jupyter-leaflet",
          "model_name": "LeafletMapStyleModel",
          "model_module_version": "^0.16.0",
          "state": {
            "_model_module": "jupyter-leaflet",
            "_model_module_version": "^0.16.0",
            "_model_name": "LeafletMapStyleModel",
            "_view_count": null,
            "_view_module": "@jupyter-widgets/base",
            "_view_module_version": "1.2.0",
            "_view_name": "StyleView",
            "cursor": "grab"
          }
        },
        "499b093f45d942d8894e801907f023db": {
          "model_module": "jupyter-leaflet",
          "model_name": "LeafletMapStyleModel",
          "model_module_version": "^0.16.0",
          "state": {
            "_model_module": "jupyter-leaflet",
            "_model_module_version": "^0.16.0",
            "_model_name": "LeafletMapStyleModel",
            "_view_count": null,
            "_view_module": "@jupyter-widgets/base",
            "_view_module_version": "1.2.0",
            "_view_name": "StyleView",
            "cursor": "move"
          }
        },
        "fe2ea8f77cb64f5092873350621cb053": {
          "model_module": "jupyter-leaflet",
          "model_name": "LeafletTileLayerModel",
          "model_module_version": "^0.16.0",
          "state": {
            "_model_module": "jupyter-leaflet",
            "_model_module_version": "^0.16.0",
            "_model_name": "LeafletTileLayerModel",
            "_view_count": null,
            "_view_module": "jupyter-leaflet",
            "_view_module_version": "^0.16.0",
            "_view_name": "LeafletTileLayerView",
            "attribution": "&copy; <a href=\"https://www.openstreetmap.org/copyright\">OpenStreetMap</a> contributors",
            "base": true,
            "bottom": true,
            "bounds": null,
            "detect_retina": false,
            "loading": false,
            "max_native_zoom": 18,
            "max_zoom": 19,
            "min_native_zoom": 0,
            "min_zoom": 1,
            "name": "OpenStreetMap.Mapnik",
            "no_wrap": false,
            "opacity": 1,
            "options": [
              "attribution",
              "bounds",
              "detect_retina",
              "max_native_zoom",
              "max_zoom",
              "min_native_zoom",
              "min_zoom",
              "no_wrap",
              "tile_size",
              "tms"
            ],
            "popup": null,
            "popup_max_height": null,
            "popup_max_width": 300,
            "popup_min_width": 50,
            "show_loading": false,
            "tile_size": 256,
            "tms": false,
            "url": "https://a.tile.openstreetmap.org/{z}/{x}/{y}.png",
            "visible": true
          }
        },
        "3fd9302d89064ec89fc69fb39fe46777": {
          "model_module": "jupyter-leaflet",
          "model_name": "LeafletTileLayerModel",
          "model_module_version": "^0.16.0",
          "state": {
            "_model_module": "jupyter-leaflet",
            "_model_module_version": "^0.16.0",
            "_model_name": "LeafletTileLayerModel",
            "_view_count": null,
            "_view_module": "jupyter-leaflet",
            "_view_module_version": "^0.16.0",
            "_view_name": "LeafletTileLayerView",
            "attribution": "Google",
            "base": false,
            "bottom": true,
            "bounds": null,
            "detect_retina": false,
            "loading": false,
            "max_native_zoom": 18,
            "max_zoom": 22,
            "min_native_zoom": 0,
            "min_zoom": 0,
            "name": "Google Maps",
            "no_wrap": false,
            "opacity": 1,
            "options": [
              "attribution",
              "bounds",
              "detect_retina",
              "max_native_zoom",
              "max_zoom",
              "min_native_zoom",
              "min_zoom",
              "no_wrap",
              "tile_size",
              "tms"
            ],
            "popup": null,
            "popup_max_height": null,
            "popup_max_width": 300,
            "popup_min_width": 50,
            "show_loading": false,
            "tile_size": 256,
            "tms": false,
            "url": "https://mt1.google.com/vt/lyrs=m&x={x}&y={y}&z={z}",
            "visible": true
          }
        },
        "25327216e72b4cada48c5e88186e29e0": {
          "model_module": "jupyter-leaflet",
          "model_name": "LeafletTileLayerModel",
          "model_module_version": "^0.16.0",
          "state": {
            "_model_module": "jupyter-leaflet",
            "_model_module_version": "^0.16.0",
            "_model_name": "LeafletTileLayerModel",
            "_view_count": null,
            "_view_module": "jupyter-leaflet",
            "_view_module_version": "^0.16.0",
            "_view_name": "LeafletTileLayerView",
            "attribution": "Google Earth Engine",
            "base": false,
            "bottom": true,
            "bounds": null,
            "detect_retina": false,
            "loading": false,
            "max_native_zoom": 18,
            "max_zoom": 24,
            "min_native_zoom": 0,
            "min_zoom": 0,
            "name": "Color infrared (543)",
            "no_wrap": false,
            "opacity": 1,
            "options": [
              "attribution",
              "bounds",
              "detect_retina",
              "max_native_zoom",
              "max_zoom",
              "min_native_zoom",
              "min_zoom",
              "no_wrap",
              "tile_size",
              "tms"
            ],
            "popup": null,
            "popup_max_height": null,
            "popup_max_width": 300,
            "popup_min_width": 50,
            "show_loading": false,
            "tile_size": 256,
            "tms": false,
            "url": "https://earthengine.googleapis.com/v1alpha/projects/earthengine-legacy/maps/7b8fd3e92f9d8510c52ecddff511a117-a627ec6cc1335c4c2a0b7cf4ea1d7e41/tiles/{z}/{x}/{y}",
            "visible": true
          }
        },
        "40a97b1875074372b86694d45978688a": {
          "model_module": "jupyter-leaflet",
          "model_name": "LeafletTileLayerModel",
          "model_module_version": "^0.16.0",
          "state": {
            "_model_module": "jupyter-leaflet",
            "_model_module_version": "^0.16.0",
            "_model_name": "LeafletTileLayerModel",
            "_view_count": null,
            "_view_module": "jupyter-leaflet",
            "_view_module_version": "^0.16.0",
            "_view_name": "LeafletTileLayerView",
            "attribution": "Google Earth Engine",
            "base": false,
            "bottom": true,
            "bounds": null,
            "detect_retina": false,
            "loading": true,
            "max_native_zoom": 18,
            "max_zoom": 24,
            "min_native_zoom": 0,
            "min_zoom": 0,
            "name": "True color (432)",
            "no_wrap": false,
            "opacity": 1,
            "options": [
              "attribution",
              "bounds",
              "detect_retina",
              "max_native_zoom",
              "max_zoom",
              "min_native_zoom",
              "min_zoom",
              "no_wrap",
              "tile_size",
              "tms"
            ],
            "popup": null,
            "popup_max_height": null,
            "popup_max_width": 300,
            "popup_min_width": 50,
            "show_loading": false,
            "tile_size": 256,
            "tms": false,
            "url": "https://earthengine.googleapis.com/v1alpha/projects/earthengine-legacy/maps/1ce16bd457028e70b413975d1d561b88-3e64e548a191c836b6a92a66c7f700dd/tiles/{z}/{x}/{y}",
            "visible": true
          }
        },
        "77e4a7d3cf5048e39f515c997253094d": {
          "model_module": "@jupyter-widgets/base",
          "model_name": "LayoutModel",
          "model_module_version": "1.2.0",
          "state": {
            "_model_module": "@jupyter-widgets/base",
            "_model_module_version": "1.2.0",
            "_model_name": "LayoutModel",
            "_view_count": null,
            "_view_module": "@jupyter-widgets/base",
            "_view_module_version": "1.2.0",
            "_view_name": "LayoutView",
            "align_content": null,
            "align_items": null,
            "align_self": null,
            "border": null,
            "bottom": null,
            "display": null,
            "flex": null,
            "flex_flow": null,
            "grid_area": null,
            "grid_auto_columns": null,
            "grid_auto_flow": null,
            "grid_auto_rows": null,
            "grid_column": null,
            "grid_gap": null,
            "grid_row": null,
            "grid_template_areas": null,
            "grid_template_columns": null,
            "grid_template_rows": null,
            "height": "600px",
            "justify_content": null,
            "justify_items": null,
            "left": null,
            "margin": null,
            "max_height": null,
            "max_width": null,
            "min_height": null,
            "min_width": null,
            "object_fit": null,
            "object_position": null,
            "order": null,
            "overflow": null,
            "overflow_x": null,
            "overflow_y": null,
            "padding": null,
            "right": null,
            "top": null,
            "visibility": null,
            "width": null
          }
        },
        "744f5946003c46e9bb333faa2226f89f": {
          "model_module": "@jupyter-widgets/controls",
          "model_name": "HBoxModel",
          "model_module_version": "1.5.0",
          "state": {
            "_dom_classes": [],
            "_model_module": "@jupyter-widgets/controls",
            "_model_module_version": "1.5.0",
            "_model_name": "HBoxModel",
            "_view_count": null,
            "_view_module": "@jupyter-widgets/controls",
            "_view_module_version": "1.5.0",
            "_view_name": "HBoxView",
            "box_style": "",
            "children": [
              "IPY_MODEL_23f71c01ec7e468cb48e5f2b8899a1b4"
            ],
            "layout": "IPY_MODEL_be9aead247dd4b47ac081a0a7c6a6fa9"
          }
        },
        "c28fe68216674f9583ed0e41b345fd4b": {
          "model_module": "@jupyter-widgets/controls",
          "model_name": "VBoxModel",
          "model_module_version": "1.5.0",
          "state": {
            "_dom_classes": [],
            "_model_module": "@jupyter-widgets/controls",
            "_model_module_version": "1.5.0",
            "_model_name": "VBoxModel",
            "_view_count": null,
            "_view_module": "@jupyter-widgets/controls",
            "_view_module_version": "1.5.0",
            "_view_name": "VBoxView",
            "box_style": "",
            "children": [
              "IPY_MODEL_d8bb628f9a0f420092ecaa69612de322"
            ],
            "layout": "IPY_MODEL_6afcc719c7bd428b9406d368394bbcfd"
          }
        },
        "23f71c01ec7e468cb48e5f2b8899a1b4": {
          "model_module": "@jupyter-widgets/controls",
          "model_name": "ToggleButtonModel",
          "model_module_version": "1.5.0",
          "state": {
            "_dom_classes": [],
            "_model_module": "@jupyter-widgets/controls",
            "_model_module_version": "1.5.0",
            "_model_name": "ToggleButtonModel",
            "_view_count": null,
            "_view_module": "@jupyter-widgets/controls",
            "_view_module_version": "1.5.0",
            "_view_name": "ToggleButtonView",
            "button_style": "",
            "description": "",
            "description_tooltip": null,
            "disabled": false,
            "icon": "globe",
            "layout": "IPY_MODEL_27b92227cedc498b8e81ffa76a82db76",
            "style": "IPY_MODEL_4c955dcba1664c97930506e78f6171f8",
            "tooltip": "Search location/data",
            "value": false
          }
        },
        "be9aead247dd4b47ac081a0a7c6a6fa9": {
          "model_module": "@jupyter-widgets/base",
          "model_name": "LayoutModel",
          "model_module_version": "1.2.0",
          "state": {
            "_model_module": "@jupyter-widgets/base",
            "_model_module_version": "1.2.0",
            "_model_name": "LayoutModel",
            "_view_count": null,
            "_view_module": "@jupyter-widgets/base",
            "_view_module_version": "1.2.0",
            "_view_name": "LayoutView",
            "align_content": null,
            "align_items": null,
            "align_self": null,
            "border": null,
            "bottom": null,
            "display": null,
            "flex": null,
            "flex_flow": null,
            "grid_area": null,
            "grid_auto_columns": null,
            "grid_auto_flow": null,
            "grid_auto_rows": null,
            "grid_column": null,
            "grid_gap": null,
            "grid_row": null,
            "grid_template_areas": null,
            "grid_template_columns": null,
            "grid_template_rows": null,
            "height": null,
            "justify_content": null,
            "justify_items": null,
            "left": null,
            "margin": null,
            "max_height": null,
            "max_width": null,
            "min_height": null,
            "min_width": null,
            "object_fit": null,
            "object_position": null,
            "order": null,
            "overflow": null,
            "overflow_x": null,
            "overflow_y": null,
            "padding": null,
            "right": null,
            "top": null,
            "visibility": null,
            "width": null
          }
        },
        "d8bb628f9a0f420092ecaa69612de322": {
          "model_module": "@jupyter-widgets/controls",
          "model_name": "ToggleButtonModel",
          "model_module_version": "1.5.0",
          "state": {
            "_dom_classes": [],
            "_model_module": "@jupyter-widgets/controls",
            "_model_module_version": "1.5.0",
            "_model_name": "ToggleButtonModel",
            "_view_count": null,
            "_view_module": "@jupyter-widgets/controls",
            "_view_module_version": "1.5.0",
            "_view_name": "ToggleButtonView",
            "button_style": "",
            "description": "",
            "description_tooltip": null,
            "disabled": false,
            "icon": "wrench",
            "layout": "IPY_MODEL_3f7e9aa968d8499bac15cafa1c0887c5",
            "style": "IPY_MODEL_e6242f8d3a5c45548625e2cc523c21aa",
            "tooltip": "Toolbar",
            "value": false
          }
        },
        "6afcc719c7bd428b9406d368394bbcfd": {
          "model_module": "@jupyter-widgets/base",
          "model_name": "LayoutModel",
          "model_module_version": "1.2.0",
          "state": {
            "_model_module": "@jupyter-widgets/base",
            "_model_module_version": "1.2.0",
            "_model_name": "LayoutModel",
            "_view_count": null,
            "_view_module": "@jupyter-widgets/base",
            "_view_module_version": "1.2.0",
            "_view_name": "LayoutView",
            "align_content": null,
            "align_items": null,
            "align_self": null,
            "border": null,
            "bottom": null,
            "display": null,
            "flex": null,
            "flex_flow": null,
            "grid_area": null,
            "grid_auto_columns": null,
            "grid_auto_flow": null,
            "grid_auto_rows": null,
            "grid_column": null,
            "grid_gap": null,
            "grid_row": null,
            "grid_template_areas": null,
            "grid_template_columns": null,
            "grid_template_rows": null,
            "height": null,
            "justify_content": null,
            "justify_items": null,
            "left": null,
            "margin": null,
            "max_height": null,
            "max_width": null,
            "min_height": null,
            "min_width": null,
            "object_fit": null,
            "object_position": null,
            "order": null,
            "overflow": null,
            "overflow_x": null,
            "overflow_y": null,
            "padding": null,
            "right": null,
            "top": null,
            "visibility": null,
            "width": null
          }
        },
        "27b92227cedc498b8e81ffa76a82db76": {
          "model_module": "@jupyter-widgets/base",
          "model_name": "LayoutModel",
          "model_module_version": "1.2.0",
          "state": {
            "_model_module": "@jupyter-widgets/base",
            "_model_module_version": "1.2.0",
            "_model_name": "LayoutModel",
            "_view_count": null,
            "_view_module": "@jupyter-widgets/base",
            "_view_module_version": "1.2.0",
            "_view_name": "LayoutView",
            "align_content": null,
            "align_items": null,
            "align_self": null,
            "border": null,
            "bottom": null,
            "display": null,
            "flex": null,
            "flex_flow": null,
            "grid_area": null,
            "grid_auto_columns": null,
            "grid_auto_flow": null,
            "grid_auto_rows": null,
            "grid_column": null,
            "grid_gap": null,
            "grid_row": null,
            "grid_template_areas": null,
            "grid_template_columns": null,
            "grid_template_rows": null,
            "height": "28px",
            "justify_content": null,
            "justify_items": null,
            "left": null,
            "margin": null,
            "max_height": null,
            "max_width": null,
            "min_height": null,
            "min_width": null,
            "object_fit": null,
            "object_position": null,
            "order": null,
            "overflow": null,
            "overflow_x": null,
            "overflow_y": null,
            "padding": "0px 0px 0px 4px",
            "right": null,
            "top": null,
            "visibility": null,
            "width": "28px"
          }
        },
        "4c955dcba1664c97930506e78f6171f8": {
          "model_module": "@jupyter-widgets/controls",
          "model_name": "DescriptionStyleModel",
          "model_module_version": "1.5.0",
          "state": {
            "_model_module": "@jupyter-widgets/controls",
            "_model_module_version": "1.5.0",
            "_model_name": "DescriptionStyleModel",
            "_view_count": null,
            "_view_module": "@jupyter-widgets/base",
            "_view_module_version": "1.2.0",
            "_view_name": "StyleView",
            "description_width": ""
          }
        },
        "3f7e9aa968d8499bac15cafa1c0887c5": {
          "model_module": "@jupyter-widgets/base",
          "model_name": "LayoutModel",
          "model_module_version": "1.2.0",
          "state": {
            "_model_module": "@jupyter-widgets/base",
            "_model_module_version": "1.2.0",
            "_model_name": "LayoutModel",
            "_view_count": null,
            "_view_module": "@jupyter-widgets/base",
            "_view_module_version": "1.2.0",
            "_view_name": "LayoutView",
            "align_content": null,
            "align_items": null,
            "align_self": null,
            "border": null,
            "bottom": null,
            "display": null,
            "flex": null,
            "flex_flow": null,
            "grid_area": null,
            "grid_auto_columns": null,
            "grid_auto_flow": null,
            "grid_auto_rows": null,
            "grid_column": null,
            "grid_gap": null,
            "grid_row": null,
            "grid_template_areas": null,
            "grid_template_columns": null,
            "grid_template_rows": null,
            "height": "28px",
            "justify_content": null,
            "justify_items": null,
            "left": null,
            "margin": null,
            "max_height": null,
            "max_width": null,
            "min_height": null,
            "min_width": null,
            "object_fit": null,
            "object_position": null,
            "order": null,
            "overflow": null,
            "overflow_x": null,
            "overflow_y": null,
            "padding": "0px 0px 0px 4px",
            "right": null,
            "top": null,
            "visibility": null,
            "width": "28px"
          }
        },
        "e6242f8d3a5c45548625e2cc523c21aa": {
          "model_module": "@jupyter-widgets/controls",
          "model_name": "DescriptionStyleModel",
          "model_module_version": "1.5.0",
          "state": {
            "_model_module": "@jupyter-widgets/controls",
            "_model_module_version": "1.5.0",
            "_model_name": "DescriptionStyleModel",
            "_view_count": null,
            "_view_module": "@jupyter-widgets/base",
            "_view_module_version": "1.2.0",
            "_view_name": "StyleView",
            "description_width": ""
          }
        }
      }
    }
  },
  "nbformat": 4,
  "nbformat_minor": 5
}